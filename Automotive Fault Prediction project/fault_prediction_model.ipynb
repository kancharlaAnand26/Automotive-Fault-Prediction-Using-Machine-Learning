{
 "cells": [
  {
   "cell_type": "code",
   "execution_count": null,
   "id": "125e2fd4-92a5-431c-a981-d32e79334bfa",
   "metadata": {},
   "outputs": [],
   "source": [
    "import pandas as pd\n",
    "from sklearn.model_selection import train_test_split\n",
    "from sklearn.ensemble import RandomForestClassifier\n",
    "from sklearn.preprocessing import LabelEncoder\n",
    "import pickle\n",
    "\n",
    "data = pd.read_csv('vehicle_sensor_data.csv')\n",
    "\n"
   ]
  },
  {
   "cell_type": "code",
   "execution_count": null,
   "id": "ae015e00",
   "metadata": {},
   "outputs": [],
   "source": [
    "\n",
    "\n",
    "\n",
    "\n",
    "# 2. Encode the labels\n",
    "le = LabelEncoder()\n",
    "data['fault_type_encoded'] = le.fit_transform(data['fault_type'])\n",
    "\n",
    "# 3. Split features and target\n",
    "X = data[['speed', 'engine_temp', 'oil_pressure', 'vibration', 'brake_pressure', 'gear_position']]\n",
    "y = data['fault_type_encoded']\n",
    "\n",
    "# 4. Train RandomForest\n",
    "model = RandomForestClassifier(n_estimators=100, random_state=42)\n",
    "model.fit(X, y)\n",
    "\n",
    "# 5. (Optional) Evaluate on a test split\n",
    "\n",
    "# 6. Save model and encoder\n",
    "with open('rf_model.pkl', 'wb') as f:\n",
    "    pickle.dump({'model': model, 'label_encoder': le}, f)\n"
   ]
  }
 ],
 "metadata": {
  "kernelspec": {
   "display_name": "Python [conda env:base] *",
   "language": "python",
   "name": "conda-base-py"
  },
  "language_info": {
   "codemirror_mode": {
    "name": "ipython",
    "version": 3
   },
   "file_extension": ".py",
   "mimetype": "text/x-python",
   "name": "python",
   "nbconvert_exporter": "python",
   "pygments_lexer": "ipython3",
   "version": "3.13.5"
  }
 },
 "nbformat": 4,
 "nbformat_minor": 5
}
